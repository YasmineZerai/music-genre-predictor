{
 "cells": [
  {
   "cell_type": "code",
   "execution_count": 58,
   "id": "e6c21ab6-8b90-43a0-884c-6f65e8e55732",
   "metadata": {},
   "outputs": [
    {
     "data": {
      "text/plain": [
       "array(['Dance', 'Acoustic'], dtype=object)"
      ]
     },
     "execution_count": 58,
     "metadata": {},
     "output_type": "execute_result"
    }
   ],
   "source": [
    "import pandas as pd\n",
    "from sklearn.tree import DecisionTreeClassifier\n",
    "from sklearn.model_selection import train_test_split\n",
    "from sklearn.metrics import accuracy_score\n",
    "#from sklearn.externals import joblib \n",
    "data=pd.read_csv('music.csv')\n",
    "X=data.drop(columns=['genre'])\n",
    "y=data['genre']\n",
    "X_train, X_test, y_train, y_test=train_test_split(X,y,test_size=0.1, random_state=100)\n",
    "\n",
    "model=DecisionTreeClassifier(criterion=\"entropy\",random_state=100,max_depth=3)\n",
    "model.fit(X_train,y_train)\n",
    "#joblib.dump(model,'music-recommmender.joblib')\n",
    "#prediction=model.predict([[21,1],[22,0]])\n",
    "X_test\n",
    "predictions=model.predict(X_test)\n",
    "predictions\n",
    "#score= accuracy_score(y_test, predictions)\n",
    "#score\n",
    "\n"
   ]
  },
  {
   "cell_type": "code",
   "execution_count": null,
   "id": "3bd8644c-f85a-4b34-bcb7-2ab56a4ddf75",
   "metadata": {},
   "outputs": [],
   "source": []
  },
  {
   "cell_type": "code",
   "execution_count": null,
   "id": "fd785b72-7657-4ab1-ace9-2211bdf6597f",
   "metadata": {},
   "outputs": [],
   "source": []
  },
  {
   "cell_type": "code",
   "execution_count": null,
   "id": "d2b923d3-d2f2-485c-a843-2f3963f8701e",
   "metadata": {},
   "outputs": [],
   "source": []
  }
 ],
 "metadata": {
  "kernelspec": {
   "display_name": "Python 3 (ipykernel)",
   "language": "python",
   "name": "python3"
  },
  "language_info": {
   "codemirror_mode": {
    "name": "ipython",
    "version": 3
   },
   "file_extension": ".py",
   "mimetype": "text/x-python",
   "name": "python",
   "nbconvert_exporter": "python",
   "pygments_lexer": "ipython3",
   "version": "3.12.4"
  }
 },
 "nbformat": 4,
 "nbformat_minor": 5
}
